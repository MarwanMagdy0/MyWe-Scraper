{
 "cells": [
  {
   "cell_type": "code",
   "execution_count": 34,
   "metadata": {},
   "outputs": [],
   "source": [
    "import json\n",
    "from utiles import JsonIt\n",
    "from datetime import datetime\n",
    "import os"
   ]
  },
  {
   "cell_type": "code",
   "execution_count": 35,
   "metadata": {},
   "outputs": [],
   "source": [
    "file_names = []\n",
    "for file in os.listdir(\"data/\"):\n",
    "    file_names.append(file)"
   ]
  },
  {
   "cell_type": "code",
   "execution_count": 36,
   "metadata": {},
   "outputs": [
    {
     "data": {
      "text/plain": [
       "['1683383135-1685166368.json',\n",
       " '1685296023-1686937939.json',\n",
       " '1686938365-1689452721.json',\n",
       " '1689541610-1692008374.json',\n",
       " '1692255665-1694808111.json',\n",
       " '1694871956-1697396971.json',\n",
       " '1697799815-1700063795.json',\n",
       " '1700130935-1702531004.json',\n",
       " '1702544355-1704390615.json',\n",
       " '1704470340-1706296076.json',\n",
       " '1706432809-1707981659.json',\n",
       " '1708444316-1710328599.json',\n",
       " '1710599556-1712318933.json',\n",
       " '1712346688-1714144383.json',\n",
       " '1714147986-1716192939.json',\n",
       " '1716194523-1718085622.json',\n",
       " '1718090366-1719855809.json',\n",
       " '1719900014-1721894503.json',\n",
       " '1721898377-1723188195.json',\n",
       " '1723273626-1724625206.json',\n",
       " '1724671823-1726216757.json',\n",
       " '1726382041-1728313007.json',\n",
       " '1728561828-1729939788.json',\n",
       " '1729942218-1731745015.json',\n",
       " '1731756698-1733477721.json',\n",
       " '1733564640-1735155018.json']"
      ]
     },
     "execution_count": 36,
     "metadata": {},
     "output_type": "execute_result"
    }
   ],
   "source": [
    "file_names = sorted(file_names)\n",
    "file_names"
   ]
  },
  {
   "cell_type": "code",
   "execution_count": 37,
   "metadata": {},
   "outputs": [],
   "source": [
    "data_file = JsonIt(\"data/\" + file_names[0])"
   ]
  },
  {
   "cell_type": "code",
   "execution_count": 38,
   "metadata": {},
   "outputs": [],
   "source": [
    "first_time = list(data_file.keys())[0]\n",
    "last_time  = list(data_file.keys())[-1]"
   ]
  },
  {
   "cell_type": "code",
   "execution_count": 39,
   "metadata": {},
   "outputs": [],
   "source": [
    "start_time = datetime.fromtimestamp(int(first_time))\n",
    "last_time  = datetime.fromtimestamp(int(last_time))"
   ]
  },
  {
   "cell_type": "code",
   "execution_count": 40,
   "metadata": {},
   "outputs": [
    {
     "data": {
      "text/plain": [
       "datetime.timedelta(days=20, seconds=55233)"
      ]
     },
     "execution_count": 40,
     "metadata": {},
     "output_type": "execute_result"
    }
   ],
   "source": [
    "last_time - start_time"
   ]
  },
  {
   "cell_type": "code",
   "execution_count": 42,
   "metadata": {},
   "outputs": [
    {
     "name": "stdout",
     "output_type": "stream",
     "text": [
      "[2023-05-06 17:25:35] [2023-05-27 08:46:08] 20 days, 15:20:33\n",
      "[2023-05-28 20:47:03] [2023-06-16 20:52:19] 19 days, 0:05:16\n",
      "[2023-06-16 20:59:25] [2023-07-15 23:25:21] 29 days, 2:25:56\n",
      "[2023-07-17 00:06:50] [2023-08-14 13:19:34] 28 days, 13:12:44\n",
      "[2023-08-17 10:01:05] [2023-09-15 23:01:51] 29 days, 13:00:46\n",
      "[2023-09-16 16:45:56] [2023-10-15 22:09:31] 29 days, 5:23:35\n",
      "[2023-10-20 14:03:35] [2023-11-15 17:56:35] 26 days, 3:53:00\n",
      "[2023-11-16 12:35:35] [2023-12-14 07:16:44] 27 days, 18:41:09\n",
      "[2023-12-14 10:59:15] [2024-01-04 19:50:15] 21 days, 8:51:00\n",
      "[2024-01-05 17:59:00] [2024-01-26 21:07:56] 21 days, 3:08:56\n",
      "[2024-01-28 11:06:49] [2024-02-15 09:20:59] 17 days, 22:14:10\n",
      "[2024-02-20 17:51:56] [2024-03-13 13:16:39] 21 days, 19:24:43\n",
      "[2024-03-16 16:32:36] [2024-04-05 14:08:53] 19 days, 21:36:17\n",
      "[2024-04-05 21:51:28] [2024-04-26 18:13:03] 20 days, 20:21:35\n",
      "[2024-04-26 19:13:06] [2024-05-20 11:15:39] 23 days, 16:02:33\n",
      "[2024-05-20 11:42:03] [2024-06-11 09:00:22] 21 days, 21:18:19\n",
      "[2024-06-11 10:19:26] [2024-07-01 20:43:29] 20 days, 10:24:03\n",
      "[2024-07-02 09:00:14] [2024-07-25 11:01:43] 23 days, 2:01:29\n",
      "[2024-07-25 12:06:17] [2024-08-09 10:23:15] 14 days, 22:16:58\n",
      "[2024-08-10 10:07:06] [2024-08-26 01:33:26] 15 days, 15:26:20\n",
      "[2024-08-26 14:30:23] [2024-09-13 11:39:17] 17 days, 21:08:54\n",
      "[2024-09-15 09:34:01] [2024-10-07 17:56:47] 22 days, 8:22:46\n",
      "[2024-10-10 15:03:48] [2024-10-26 13:49:48] 15 days, 22:46:00\n",
      "[2024-10-26 14:30:18] [2024-11-16 10:16:55] 20 days, 19:46:37\n",
      "[2024-11-16 13:31:38] [2024-12-06 11:35:21] 19 days, 22:03:43\n",
      "[2024-12-07 11:44:00] [2024-12-25 21:30:18] 18 days, 9:46:18\n"
     ]
    }
   ],
   "source": [
    "for file_name in file_names:\n",
    "    data_file = JsonIt(\"data/\" + file_name)\n",
    "    first_time = list(data_file.keys())[0]\n",
    "    last_time  = list(data_file.keys())[-1]\n",
    "    start_time = datetime.fromtimestamp(int(first_time))\n",
    "    last_time  = datetime.fromtimestamp(int(last_time))\n",
    "    print(f\"[{start_time}]\", f\"[{last_time}]\", last_time - start_time)"
   ]
  },
  {
   "cell_type": "code",
   "execution_count": 47,
   "metadata": {},
   "outputs": [
    {
     "data": {
      "text/plain": [
       "7.0"
      ]
     },
     "execution_count": 47,
     "metadata": {},
     "output_type": "execute_result"
    }
   ],
   "source": [
    "140 / 20"
   ]
  },
  {
   "cell_type": "code",
   "execution_count": null,
   "metadata": {},
   "outputs": [],
   "source": []
  }
 ],
 "metadata": {
  "kernelspec": {
   "display_name": "Python 3",
   "language": "python",
   "name": "python3"
  },
  "language_info": {
   "codemirror_mode": {
    "name": "ipython",
    "version": 3
   },
   "file_extension": ".py",
   "mimetype": "text/x-python",
   "name": "python",
   "nbconvert_exporter": "python",
   "pygments_lexer": "ipython3",
   "version": "3.8.10"
  }
 },
 "nbformat": 4,
 "nbformat_minor": 2
}
